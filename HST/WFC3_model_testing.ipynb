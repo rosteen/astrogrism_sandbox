{
 "cells": [
  {
   "cell_type": "markdown",
   "metadata": {},
   "source": [
    "## WFC3 grism model testing\n",
    "\n",
    "See https://github.com/nden/documentation/blob/master/grisms/JWST_Grisms.ipynb for the JWST version that this notebook is based on."
   ]
  },
  {
   "cell_type": "code",
   "execution_count": null,
   "metadata": {},
   "outputs": [],
   "source": [
    "import asdf\n",
    "import numpy as np\n",
    "\n",
    "from dispersion_models import DISPXY_Model, DISPXY_Extension\n",
    "from transform_models import (WFC3IRForwardGrismDispersion,\n",
    "                               WFC3IRBackwardGrismDispersion)\n",
    "from astropy.modeling.models import *\n",
    "from astropy.modeling.models import math as astmath\n",
    "\n",
    "from jwst import datamodels\n",
    "from jwst.assign_wcs import util\n",
    "from jwst.assign_wcs import nircam\n",
    "\n",
    "from gwcs import coordinate_frames as cf\n",
    "from astropy import units as u"
   ]
  },
  {
   "cell_type": "code",
   "execution_count": null,
   "metadata": {},
   "outputs": [],
   "source": [
    "# Add the asdf extension for the custom dispersion models\n",
    "asdf.get_config().add_extension(DISPXY_Extension())"
   ]
  },
  {
   "cell_type": "code",
   "execution_count": null,
   "metadata": {},
   "outputs": [],
   "source": [
    "specwcs = asdf.open('wfc3_ir_specwcs.asdf').tree\n",
    "displ = specwcs['displ']\n",
    "dispx = specwcs['dispx']\n",
    "dispy = specwcs['dispy']\n",
    "invdispl = specwcs['invdispl']\n",
    "invdispx = specwcs['invdispx']\n",
    "invdispy = specwcs['invdispy']\n",
    "orders = specwcs['order']\n",
    "\n",
    "print('orders', orders)\n",
    "print('dispersion_wavelength', displ)\n",
    "print('dispersion_x', dispx)"
   ]
  },
  {
   "cell_type": "code",
   "execution_count": null,
   "metadata": {},
   "outputs": [],
   "source": [
    "gdetector = cf.Frame2D(name='grism_detector', \n",
    "                       axes_order=(0, 1),\n",
    "                       unit=(u.pix, u.pix))"
   ]
  },
  {
   "cell_type": "code",
   "execution_count": null,
   "metadata": {},
   "outputs": [],
   "source": [
    "det2det = WFC3IRForwardGrismDispersion(orders,\n",
    "                                          lmodels=displ,\n",
    "                                          xmodels=dispx,\n",
    "                                          ymodels=dispy)"
   ]
  },
  {
   "cell_type": "code",
   "execution_count": null,
   "metadata": {},
   "outputs": [],
   "source": [
    "det2det.inverse = WFC3IRBackwardGrismDispersion(orders,\n",
    "                                                lmodels=invdispl,\n",
    "                                                xmodels=dispx,\n",
    "                                                ymodels=dispy)"
   ]
  },
  {
   "cell_type": "code",
   "execution_count": null,
   "metadata": {},
   "outputs": [],
   "source": [
    "grism_pipeline = [(gdetector, det2det)]"
   ]
  },
  {
   "cell_type": "code",
   "execution_count": null,
   "metadata": {},
   "outputs": [],
   "source": [
    "from gwcs import WCS\n",
    "\n",
    "wcsobj = WCS(grism_pipeline)\n",
    "print(wcsobj)"
   ]
  },
  {
   "cell_type": "code",
   "execution_count": null,
   "metadata": {},
   "outputs": [],
   "source": [
    "x0=917\n",
    "y0=800\n",
    "order=1\n",
    "x=919\n",
    "y=806"
   ]
  },
  {
   "cell_type": "code",
   "execution_count": null,
   "metadata": {},
   "outputs": [],
   "source": [
    "det2det.evaluate(x, y, x0, y0, order)"
   ]
  },
  {
   "cell_type": "code",
   "execution_count": null,
   "metadata": {},
   "outputs": [],
   "source": [
    "# Using the output of the previous cell as input\n",
    "det2det.inverse.evaluate(917.0, 800.0, 0.9143279451180034, 1.0)"
   ]
  },
  {
   "cell_type": "code",
   "execution_count": null,
   "metadata": {},
   "outputs": [],
   "source": [
    "# Using the output of the previous cell as input \n",
    "det2det.evaluate(919.0, 800.584437342649, 917.0, 800.0, order)"
   ]
  },
  {
   "cell_type": "code",
   "execution_count": null,
   "metadata": {},
   "outputs": [],
   "source": []
  }
 ],
 "metadata": {
  "kernelspec": {
   "display_name": "Python 3",
   "language": "python",
   "name": "python3"
  },
  "language_info": {
   "codemirror_mode": {
    "name": "ipython",
    "version": 3
   },
   "file_extension": ".py",
   "mimetype": "text/x-python",
   "name": "python",
   "nbconvert_exporter": "python",
   "pygments_lexer": "ipython3",
   "version": "3.9.0"
  }
 },
 "nbformat": 4,
 "nbformat_minor": 4
}
