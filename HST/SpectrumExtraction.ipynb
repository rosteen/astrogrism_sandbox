{
 "cells": [
  {
   "cell_type": "code",
   "execution_count": 1,
   "metadata": {
    "ExecuteTime": {
     "end_time": "2021-04-16T15:10:07.382507Z",
     "start_time": "2021-04-16T15:10:06.538393Z"
    }
   },
   "outputs": [],
   "source": [
    "import numpy as np\n",
    "import matplotlib.pyplot as plt\n",
    "import matplotlib.colors as colors\n",
    "import matplotlib.cbook as cbook\n",
    "\n",
    "import asdf\n",
    "from astropy.io import fits\n",
    "from astropy.wcs import WCS\n",
    "import ndcube"
   ]
  },
  {
   "cell_type": "code",
   "execution_count": 2,
   "metadata": {
    "ExecuteTime": {
     "end_time": "2021-04-16T15:10:07.388069Z",
     "start_time": "2021-04-16T15:10:07.383945Z"
    }
   },
   "outputs": [],
   "source": [
    "test = fits.open(\"test_data/ib6o23rsq_flt.fits\")"
   ]
  },
  {
   "cell_type": "code",
   "execution_count": 3,
   "metadata": {
    "ExecuteTime": {
     "end_time": "2021-04-16T15:10:07.398951Z",
     "start_time": "2021-04-16T15:10:07.389677Z"
    }
   },
   "outputs": [
    {
     "data": {
      "text/plain": [
       "[<astropy.io.fits.hdu.image.PrimaryHDU object at 0x7fadb8093310>, <astropy.io.fits.hdu.image.ImageHDU object at 0x7fadc91bb250>, <astropy.io.fits.hdu.image.ImageHDU object at 0x7fadc91bb670>, <astropy.io.fits.hdu.image.ImageHDU object at 0x7fadc91bb6d0>, <astropy.io.fits.hdu.image.ImageHDU object at 0x7fadc91bb910>, <astropy.io.fits.hdu.image.ImageHDU object at 0x7fadc91bbb50>, <astropy.io.fits.hdu.table.BinTableHDU object at 0x7fadc91bbc70>]"
      ]
     },
     "execution_count": 3,
     "metadata": {},
     "output_type": "execute_result"
    }
   ],
   "source": [
    "test"
   ]
  },
  {
   "cell_type": "code",
   "execution_count": 4,
   "metadata": {
    "ExecuteTime": {
     "end_time": "2021-04-16T15:10:07.407416Z",
     "start_time": "2021-04-16T15:10:07.400033Z"
    }
   },
   "outputs": [
    {
     "data": {
      "text/plain": [
       "SIMPLE  =                    T / file does conform to FITS standard             \n",
       "BITPIX  =                   16                                                  \n",
       "NAXIS   =                    0                                                  \n",
       "EXTEND  =                    T / FITS dataset may contain extensions            \n",
       "COMMENT   FITS (Flexible Image Transport System) format is defined in 'Astronomy\n",
       "COMMENT   and Astrophysics', volume 376, page 359; bibcode: 2001A&A...376..359H \n",
       "ORIGIN  = 'HSTIO/CFITSIO March 2010'                                            \n",
       "DATE    = '2016-09-14' / date this file was written (yyyy-mm-dd)                \n",
       "NEXTEND =                    6 / Number of standard extensions                  \n",
       "FILENAME= 'ib6o23rsq_flt.fits' / name of file                                   \n",
       "FILETYPE= 'SCI      '          / type of data found in data file                \n",
       "                                                                                \n",
       "TELESCOP= 'HST'                / telescope used to acquire data                 \n",
       "INSTRUME= 'WFC3  '             / identifier for instrument used to acquire data \n",
       "EQUINOX =               2000.0 / equinox of celestial coord. system             \n",
       "                                                                                \n",
       "              / DATA DESCRIPTION KEYWORDS                                       \n",
       "                                                                                \n",
       "ROOTNAME= 'ib6o23rsq                         ' / rootname of the observation set\n",
       "IMAGETYP= 'EXT               ' / type of exposure identifier                    \n",
       "PRIMESI = 'WFC3  '             / instrument designated as prime                 \n",
       "                                                                                \n",
       "              / TARGET INFORMATION                                              \n",
       "                                                                                \n",
       "TARGNAME= 'WFC3-ERSII-G01                ' / proposer's target name             \n",
       "RA_TARG =   5.307083333333E+01 / right ascension of the target (deg) (J2000)    \n",
       "DEC_TARG=  -2.771111111111E+01 / declination of the target (deg) (J2000)        \n",
       "                                                                                \n",
       "              / PROPOSAL INFORMATION                                            \n",
       "                                                                                \n",
       "PROPOSID=                11359 / PEP proposal identifier                        \n",
       "LINENUM = '23.001         '    / proposal logsheet line number                  \n",
       "PR_INV_L= 'O''Connell                    ' / last name of principal investigator\n",
       "PR_INV_F= 'Robert              ' / first name of principal investigator         \n",
       "PR_INV_M= 'W.                  ' / middle name / initial of principal investigat\n",
       "                                                                                \n",
       "              / EXPOSURE INFORMATION                                            \n",
       "                                                                                \n",
       "SUNANGLE=           127.366051 / angle between sun and V1 axis                  \n",
       "MOONANGL=            60.330002 / angle between moon and V1 axis                 \n",
       "SUN_ALT =           -20.195961 / altitude of the sun above Earth's limb         \n",
       "FGSLOCK = 'FINE/GYRO         ' / commanded FGS lock (FINE,COARSE,GYROS,UNKNOWN) \n",
       "GYROMODE= 'T'                  / number of gyros scheduled, T=3+OBAD            \n",
       "REFFRAME= 'ICRS    '           / guide star catalog version                     \n",
       "MTFLAG  = ' '                  / moving target flag; T if it is a moving target \n",
       "                                                                                \n",
       "DATE-OBS= '2009-10-03'         / UT date of start of observation (yyyy-mm-dd)   \n",
       "TIME-OBS= '14:43:57'           / UT time of start of observation (hh:mm:ss)     \n",
       "EXPSTART=   5.510761385738E+04 / exposure start time (Modified Julian Date)     \n",
       "EXPEND  =   5.510762662294E+04 / exposure end time (Modified Julian Date)       \n",
       "EXPTIME =          1102.935669 / exposure duration (seconds)--calculated        \n",
       "EXPFLAG = 'NORMAL       '      / Exposure interruption indicator                \n",
       "QUALCOM1= '                                                                    '\n",
       "QUALCOM2= '                                                                    '\n",
       "QUALCOM3= '                                                                    '\n",
       "QUALITY = '                                                                    '\n",
       "                                                                                \n",
       "                                                                                \n",
       "              / POINTING INFORMATION                                            \n",
       "                                                                                \n",
       "PA_V3   =           119.087196 / position angle of V3-axis of HST (deg)         \n",
       "                                                                                \n",
       "              / TARGET OFFSETS (POSTARGS)                                       \n",
       "                                                                                \n",
       "POSTARG1=           -10.012000 / POSTARG in axis 1 direction                    \n",
       "POSTARG2=             5.058000 / POSTARG in axis 2 direction                    \n",
       "                                                                                \n",
       "              / DIAGNOSTIC KEYWORDS                                             \n",
       "                                                                                \n",
       "OPUS_VER= 'HSTDP 2016_1a     ' / data processing software system version        \n",
       "CSYS_VER= 'hstdp-2016.1'       / Calibration software system version id         \n",
       "CAL_VER = '3.3(28-Jan-2016)'   / CALWF3 code version                            \n",
       "PROCTIME=   5.764553692130E+04 / Pipeline processing time (MJD)                 \n",
       "                                                                                \n",
       "              / INSTRUMENT CONFIGURATION INFORMATION                            \n",
       "                                                                                \n",
       "OBSTYPE = 'SPECTROSCOPIC '     / observation type - imaging or spectroscopic    \n",
       "OBSMODE = 'MULTIACCUM'         / operating mode                                 \n",
       "SCLAMP  = 'NONE          '     / lamp status, NONE or name of lamp which is on  \n",
       "NRPTEXP =                    1 / number of repeat exposures in set: default 1   \n",
       "SUBARRAY=                    F / data from a subarray (T) or full frame (F)     \n",
       "SUBTYPE = 'FULLIMAG'           / Size/type of IR subarray                       \n",
       "DETECTOR= 'IR  '               / detector in use: UVIS or IR                    \n",
       "FILTER  = 'G141   '            / element selected from filter wheel             \n",
       "SAMP_SEQ= 'SPARS100'           / MultiAccum exposure time sequence name         \n",
       "NSAMP   =                   13 / number of MULTIACCUM samples                   \n",
       "SAMPZERO=             2.911756 / sample time of the zeroth read (sec)           \n",
       "APERTURE= 'IR              '   / aperture name                                  \n",
       "PROPAPER= '                '   / proposed aperture name                         \n",
       "DIRIMAGE= 'NONE     '          / direct image for grism or prism exposure       \n",
       "                                                                                \n",
       "              / POST-SAA DARK KEYWORDS                                          \n",
       "                                                                                \n",
       "SAA_EXIT= '                 '  / time of last exit from SAA contour level 23    \n",
       "SAA_TIME=                    0 / seconds since last exit from SAA contour 23    \n",
       "SAA_DARK= 'N/A      '          / association name for post-SAA dark exposures   \n",
       "SAACRMAP= 'N/A               ' / SAA cosmic ray map file                        \n",
       "                                                                                \n",
       "              / SCAN KEYWORDS                                                   \n",
       "                                                                                \n",
       "SCAN_TYP= 'N                 ' / C:bostrophidon; D:C with dwell; N:N/A          \n",
       "SCAN_WID=   0.000000000000E+00 / scan width (arcsec)                            \n",
       "ANG_SIDE=   0.000000000000E+00 / angle between sides of parallelogram (deg)     \n",
       "DWELL_LN=                    0 / dwell pts/line for scan pointing (1-99,0 if NA)\n",
       "DWELL_TM=   0.000000000000E+00 / wait time (duration) at each dwell point (sec) \n",
       "SCAN_ANG=   0.000000000000E+00 / position angle of scan line (deg)              \n",
       "SCAN_RAT=   0.000000000000E+00 / commanded rate of the line scan (arcsec/sec)   \n",
       "NO_LINES=                    0 / number of lines per scan (1-99,0 if NA)        \n",
       "SCAN_LEN=   0.000000000000E+00 / scan length (arcsec)                           \n",
       "SCAN_COR= 'C                 ' / scan coordinate frame of ref: celestial,vehicle\n",
       "CSMID   = 'IR     '            / Channel Select Mechanism ID                    \n",
       "                                                                                \n",
       "              / CALIBRATION SWITCHES: PERFORM, OMIT, COMPLETE, SKIPPED          \n",
       "                                                                                \n",
       "DQICORR = 'COMPLETE'           / data quality initialization                    \n",
       "ZSIGCORR= 'COMPLETE'           / Zero read signal correction                    \n",
       "ZOFFCORR= 'COMPLETE'           / subtract MULTIACCUM zero read                  \n",
       "DARKCORR= 'COMPLETE'           / Subtract dark image                            \n",
       "BLEVCORR= 'COMPLETE'           / subtract bias level computed from ref pixels   \n",
       "NLINCORR= 'COMPLETE'           / correct for detector nonlinearities            \n",
       "FLATCORR= 'COMPLETE'           / flat field data                                \n",
       "CRCORR  = 'COMPLETE'           / identify cosmic ray hits                       \n",
       "UNITCORR= 'COMPLETE'           / convert to count rates                         \n",
       "PHOTCORR= 'COMPLETE'           / populate photometric header keywords           \n",
       "RPTCORR = 'OMIT    '           / combine individual repeat observations         \n",
       "DRIZCORR= 'PERFORM '           / drizzle processing                             \n",
       "                                                                                \n",
       "              / CALIBRATION REFERENCE FILES                                     \n",
       "                                                                                \n",
       "BPIXTAB = 'iref$y711519pi_bpx.fits' / bad pixel table                           \n",
       "CCDTAB  = 'iref$t2c16200i_ccd.fits' / detector calibration parameters           \n",
       "OSCNTAB = 'iref$q911321mi_osc.fits' / detector overscan table                   \n",
       "CRREJTAB= 'iref$u6a1748ri_crr.fits' / cosmic ray rejection parameters           \n",
       "DARKFILE= 'iref$xag19293i_drk.fits' / dark image file name                      \n",
       "NLINFILE= 'iref$u1k1727mi_lin.fits' / detector nonlinearities file              \n",
       "PFLTFILE= 'iref$u4m1335mi_pfl.fits' / pixel to pixel flat field file name       \n",
       "DFLTFILE= 'N/A                    ' / delta flat field file name                \n",
       "LFLTFILE= 'N/A                    ' / low order flat                            \n",
       "GRAPHTAB= 'N/A                    ' / the HST graph table                       \n",
       "COMPTAB = 'N/A                    ' / the HST components table                  \n",
       "IMPHTTAB= 'iref$wbj1825ri_imp.fits' / Image Photometry Table                    \n",
       "IDCTAB  = 'iref$w3m18525i_idc.fits' / image distortion correction table         \n",
       "DGEOFILE= 'N/A               ' / Distortion correction image                    \n",
       "MDRIZTAB= 'iref$ubi1853pi_mdz.fits' / MultiDrizzle parameter table              \n",
       "                                                                                \n",
       "              / COSMIC RAY REJECTION ALGORITHM PARAMETERS                       \n",
       "                                                                                \n",
       "MEANEXP =                  0.0 / reference exposure time for parameters         \n",
       "SCALENSE=                  0.0 / multiplicative scale factor applied to noise   \n",
       "INITGUES= '   '                / initial guess method (MIN or MED)              \n",
       "SKYSUB  = '    '               / sky value subtracted (MODE or NONE)            \n",
       "SKYSUM  =                  0.0 / sky level from the sum of all constituent image\n",
       "CRSIGMAS= '               '    / statistical rejection criteria                 \n",
       "CRRADIUS=                  0.0 / rejection propagation radius (pixels)          \n",
       "CRTHRESH=             0.000000 / rejection propagation threshold                \n",
       "BADINPDQ=                    0 / data quality flag bits to reject               \n",
       "REJ_RATE=                  0.0 / rate at which pixels are affected by cosmic ray\n",
       "CRMASK  =                    F / flag CR-rejected pixels in input files (T/F)   \n",
       "                                                                                \n",
       "              / PHOTOMETRY KEYWORDS                                             \n",
       "                                                                                \n",
       "PHOTMODE= 'WFC3 IR G141'       / observation con                                \n",
       "PHOTFLAM=        1.2561173E-20 / inverse sensitivity, ergs/cm2/Ang/electron     \n",
       "PHOTFNU =        8.0799474E-08 / inverse sensitivity, Jy*sec/electron           \n",
       "PHOTZPT =       -2.1100000E+01 / ST magnitude zero point                        \n",
       "PHOTPLAM=        1.3886717E+04 / Pivot wavelength (Angstroms)                   \n",
       "PHOTBW  =        1.6666720E+03 / RMS bandwidth of filter plus detector          \n",
       "                                                                                \n",
       "              / OTFR KEYWORDS                                                   \n",
       "                                                                                \n",
       "T_SGSTAR= '                  ' / OMS calculated guide star control              \n",
       "                                                                                \n",
       "              / PATTERN KEYWORDS                                                \n",
       "                                                                                \n",
       "PATTERN1= 'NONE                    ' / primary pattern type                     \n",
       "P1_SHAPE= '                  ' / primary pattern shape                          \n",
       "P1_PURPS= '          '         / primary pattern purpose                        \n",
       "P1_NPTS =                    0 / number of points in primary pattern            \n",
       "P1_PSPAC=             0.000000 / point spacing for primary pattern (arc-sec)    \n",
       "P1_LSPAC=             0.000000 / line spacing for primary pattern (arc-sec)     \n",
       "P1_ANGLE=             0.000000 / angle between sides of parallelogram patt (deg)\n",
       "P1_FRAME= '         '          / coordinate frame of primary pattern            \n",
       "P1_ORINT=             0.000000 / orientation of pattern to coordinate frame (deg\n",
       "P1_CENTR= '   '                / center pattern relative to pointing (yes/no)   \n",
       "PATTSTEP=                    0 / position number of this point in the pattern   \n",
       "                                                                                \n",
       "              / ENGINEERING PARAMETERS                                          \n",
       "                                                                                \n",
       "CCDAMP  = 'ABCD'               / CCD Amplifier Readout Configuration            \n",
       "CCDGAIN =                  2.5 / commanded gain of CCD                          \n",
       "CCDOFSAB=                  190 / commanded CCD bias offset for amps A&B         \n",
       "CCDOFSCD=                  190 / commanded CCD bias offset for amps C&D         \n",
       "                                                                                \n",
       "              / CALIBRATED ENGINEERING PARAMETERS                               \n",
       "                                                                                \n",
       "ATODGNA =        2.3399999E+00 / calibrated gain for amplifier A                \n",
       "ATODGNB =        2.3699999E+00 / calibrated gain for amplifier B                \n",
       "ATODGNC =        2.3099999E+00 / calibrated gain for amplifier C                \n",
       "ATODGND =        2.3800001E+00 / calibrated gain for amplifier D                \n",
       "READNSEA=        2.0200001E+01 / calibrated read noise for amplifier A          \n",
       "READNSEB=        1.9799999E+01 / calibrated read noise for amplifier B          \n",
       "READNSEC=        1.9900000E+01 / calibrated read noise for amplifier C          \n",
       "READNSED=        2.0100000E+01 / calibrated read noise for amplifier D          \n",
       "BIASLEVA=             0.000000 / bias level for amplifier A                     \n",
       "BIASLEVB=             0.000000 / bias level for amplifier B                     \n",
       "BIASLEVC=             0.000000 / bias level for amplifier C                     \n",
       "BIASLEVD=             0.000000 / bias level for amplifier D                     \n",
       "                                                                                \n",
       "              / ASSOCIATION KEYWORDS                                            \n",
       "                                                                                \n",
       "ASN_ID  = 'IB6O23010 '         / unique identifier assigned to association      \n",
       "ASN_TAB = 'ib6o23010_asn.fits     ' / name of the association table             \n",
       "ASN_MTYP= 'EXP-DTH     '       / Role of the Member in the Association          \n",
       "CRDS_CTX= 'hst_0477.pmap'                                                       \n",
       "CRDS_VER= '7.0.1, opus_2016.1-universal, af27872'                               \n",
       "ATODTAB = 'N/A     '                                                            \n",
       "BIACFILE= 'N/A     '                                                            \n",
       "BIASFILE= 'N/A     '                                                            \n",
       "D2IMFILE= 'N/A     '                                                            \n",
       "DRKCFILE= 'N/A     '                                                            \n",
       "FLSHFILE= 'N/A     '                                                            \n",
       "NPOLFILE= 'N/A     '                                                            \n",
       "PCTETAB = 'N/A     '                                                            \n",
       "SNKCFILE= 'N/A     '                                                            \n",
       "UPWCSVER= '1.2.3.dev'          / Version of STWCS used to updated the WCS       \n",
       "PYWCSVER= '1.2.1   '           / Version of PYWCS used to updated the WCS       \n",
       "DISTNAME= 'ib6o23rsq_w3m18525i-NOMODEL-NOMODEL'                                 \n",
       "SIPNAME = 'ib6o23rsq_w3m18525i'                                                 \n",
       "HISTORY CCD parameters table:                                                   \n",
       "HISTORY   reference table iref$t2c16200i_ccd.fits                               \n",
       "HISTORY     Ground                                                              \n",
       "HISTORY     Reference data based on Thermal-Vac #3, gain=2.5 results for IR-4   \n",
       "HISTORY     Readnoise,gain,saturation from TV3,MEB2 values. ISRs 2008-25,39,50  \n",
       "HISTORY DQICORR complete ...                                                    \n",
       "HISTORY   DQ array initialized ...                                              \n",
       "HISTORY   reference table iref$y711519pi_bpx.fits                               \n",
       "HISTORY     INFLIGHT 09/07/2009 18/02/2010                                      \n",
       "HISTORY     BPIXTAB from SMOV flats & darks, with time-dependent blob masks---- \n",
       "HISTORY ZSIGCORR complete.                                                      \n",
       "HISTORY BLEVCORR complete.                                                      \n",
       "HISTORY   Overscan region table:                                                \n",
       "HISTORY   reference table iref$q911321mi_osc.fits                               \n",
       "HISTORY     GROUND                                                              \n",
       "HISTORY     Initial values for ground test data processing                      \n",
       "HISTORY ZOFFCORR complete.                                                      \n",
       "HISTORY Uncertainty array initialized.                                          \n",
       "HISTORY NLINCORR complete ...                                                   \n",
       "HISTORY   reference image iref$u1k1727mi_lin.fits                               \n",
       "HISTORY     INFLIGHT 09/02/2009 12/07/2009                                      \n",
       "HISTORY     Non-linearity correction from WFC3 MEB1 TV3 and on-orbit frames---- \n",
       "HISTORY DARKCORR complete ...                                                   \n",
       "HISTORY   reference image iref$xag19293i_drk.fits                               \n",
       "HISTORY     INFLIGHT 04/09/2009 31/12/2012                                      \n",
       "HISTORY     Dark Created from 186 (74 cy17, 78 cy18, 31 cy19, 3 cy20) ramps---- \n",
       "HISTORY PHOTCORR complete ...                                                   \n",
       "HISTORY   reference table iref$wbj1825ri_imp.fits                               \n",
       "HISTORY     INFLIGHT 08/05/2009 06/04/2012                                      \n",
       "HISTORY     photometry keywords reference file--------------------------------- \n",
       "HISTORY UNITCORR complete.                                                      \n",
       "HISTORY CRCORR complete.                                                        \n",
       "HISTORY UNITCORR complete.                                                      \n",
       "HISTORY FLATCORR complete ...                                                   \n",
       "HISTORY   reference image iref$u4m1335mi_pfl.fits                               \n",
       "HISTORY     INFLIGHT 01/08/2009 01/04/2010                                      \n",
       "HISTORY     G141 gain conversion flat------------------------------------------ "
      ]
     },
     "execution_count": 4,
     "metadata": {},
     "output_type": "execute_result"
    }
   ],
   "source": [
    "test[0].header"
   ]
  },
  {
   "cell_type": "code",
   "execution_count": 5,
   "metadata": {
    "ExecuteTime": {
     "end_time": "2021-04-16T15:10:07.414691Z",
     "start_time": "2021-04-16T15:10:07.408591Z"
    }
   },
   "outputs": [
    {
     "data": {
      "text/plain": [
       "XTENSION= 'IMAGE   '           / IMAGE extension                                \n",
       "BITPIX  =                  -32                                                  \n",
       "NAXIS   =                    2                                                  \n",
       "NAXIS1  =                 1014                                                  \n",
       "NAXIS2  =                 1014                                                  \n",
       "PCOUNT  =                    0 / required keyword; must = 0                     \n",
       "GCOUNT  =                    1 / required keyword; must = 1                     \n",
       "ORIGIN  = 'HSTIO/CFITSIO March 2010'                                            \n",
       "DATE    = '2016-09-14' / date this file was written (yyyy-mm-dd)                \n",
       "INHERIT =                    T / inherit the primary header                     \n",
       "EXTNAME = 'SCI     '           / extension name                                 \n",
       "EXTVER  =                    1 / extension version number                       \n",
       "ROOTNAME= 'ib6o23rsq                         ' / rootname of the observation set\n",
       "EXPNAME = 'ib6o23rsq                ' / exposure identifier                     \n",
       "BUNIT   = 'ELECTRONS/S'        / brightness units                               \n",
       "                                                                                \n",
       "              / World Coordinate System and Related Parameters                  \n",
       "                                                                                \n",
       "WCSAXES =                    2 / number of World Coordinate System axes         \n",
       "CRPIX1  =                507.0 / x-coordinate of reference pixel                \n",
       "CRPIX2  =                507.0 / y-coordinate of reference pixel                \n",
       "CRVAL1  =     53.0734956586377 / first axis value at reference pixel            \n",
       "CRVAL2  =   -27.70721823660666 / second axis value at reference pixel           \n",
       "CTYPE1  = 'RA---TAN-SIP'       / the coordinate type for the first axis         \n",
       "CTYPE2  = 'DEC--TAN-SIP'       / the coordinate type for the second axis        \n",
       "CD1_1   = 3.61482227373837E-05 / partial of first axis coordinate w.r.t. x      \n",
       "CD1_2   = 9.42092247971798E-06 / partial of first axis coordinate w.r.t. y      \n",
       "CD2_1   = 1.04266330591494E-05 / partial of second axis coordinate w.r.t. x     \n",
       "CD2_2   = -3.2255821017724E-05 / partial of second axis coordinate w.r.t. y     \n",
       "LTV1    =        0.0000000E+00 / offset in X to subsection start                \n",
       "LTV2    =        0.0000000E+00 / offset in Y to subsection start                \n",
       "LTM1_1  =                  1.0 / reciprocal of sampling rate in X               \n",
       "LTM2_2  =                  1.0 / reciprocal of sampling rate in Y               \n",
       "PA_APER =              163.778 / Position Angle of reference aperture center (de\n",
       "VAFACTOR=   1.000051816987E+00 / velocity aberration plate scale factor         \n",
       "ORIENTAT=              163.778 / position angle of image y axis (deg. e of n)   \n",
       "RA_APER =   5.307341407653E+01 / RA of aperture reference position              \n",
       "DEC_APER=  -2.770899251213E+01 / Declination of aperture reference position     \n",
       "                                                                                \n",
       "              / REPEATED EXPOSURES INFORMATION                                  \n",
       "                                                                                \n",
       "NCOMBINE=                    1 / number of image sets combined during CR rejecti\n",
       "                                                                                \n",
       "              / READOUT DEFINITION PARAMETERS                                   \n",
       "                                                                                \n",
       "CENTERA1=                  513 / subarray axis1 center pt in unbinned dect. pix \n",
       "CENTERA2=                  513 / subarray axis2 center pt in unbinned dect. pix \n",
       "SIZAXIS1=                 1024 / subarray axis1 size in unbinned detector pixels\n",
       "SIZAXIS2=                 1024 / subarray axis2 size in unbinned detector pixels\n",
       "BINAXIS1=                    1 / axis1 data bin size in unbinned detector pixels\n",
       "BINAXIS2=                    1 / axis2 data bin size in unbinned detector pixels\n",
       "                                                                                \n",
       "              / READOUT PARAMETERS                                              \n",
       "                                                                                \n",
       "SAMPNUM =                   12 / MULTIACCUM sample number                       \n",
       "SAMPTIME=          1102.935669 / total integration time (sec)                   \n",
       "DELTATIM=           100.000313 / integration time of this sample (sec)          \n",
       "ROUTTIME=   5.510762662294E+04 / UT time of array readout (MJD)                 \n",
       "TDFTRANS=                    0 / number of TDF transitions during current sample\n",
       "                                                                                \n",
       "              / DATA PACKET INFORMATION                                         \n",
       "                                                                                \n",
       "FILLCNT =                    0 / number of segments containing fill             \n",
       "ERRCNT  =                    0 / number of segments containing errors           \n",
       "PODPSFF =                    F / podps fill present (T/F)                       \n",
       "STDCFFF =                    F / science telemetry fill data present (T=1/F=0)  \n",
       "STDCFFP = '0x5569'             / science telemetry fill pattern (hex)           \n",
       "                                                                                \n",
       "              / IMAGE STATISTICS AND DATA QUALITY FLAGS                         \n",
       "                                                                                \n",
       "NGOODPIX=              1002965 / number of good pixels                          \n",
       "SDQFLAGS=                31743 / serious data quality flags                     \n",
       "GOODMIN =       -1.5400983E+00 / minimum value of good pixels                   \n",
       "GOODMAX =        1.5517249E+02 / maximum value of good pixels                   \n",
       "GOODMEAN=        9.2970192E-01 / mean value of good pixels                      \n",
       "SNRMIN  =        1.2313307E-02 / minimum signal to noise of good pixels         \n",
       "SNRMAX  =        7.2329807E-01 / maximum signal to noise of good pixels         \n",
       "SNRMEAN =        3.6682274E-02 / mean value of signal to noise of good pixels   \n",
       "SOFTERRS=                    0 / number of soft error pixels (DQF=1)            \n",
       "MEANDARK=        2.2464146E+01 / average of the dark values subtracted          \n",
       "MEANBLEV=        1.4466604E+04 / average of all bias levels subtracted          \n",
       "RADESYS = 'ICRS    '                                                            \n",
       "OCX10   = 0.000778564193751663                                                  \n",
       "OCX11   =    0.135431244969368                                                  \n",
       "OCY10   =   0.1209636405110359                                                  \n",
       "OCY11   = -0.00041851671994663                                                  \n",
       "IDCSCALE=   0.1282500028610229                                                  \n",
       "IDCTHETA=                 45.0                                                  \n",
       "IDCXREF =                507.0                                                  \n",
       "IDCYREF =                507.0                                                  \n",
       "IDCV2REF=    1.019000053405762                                                  \n",
       "IDCV3REF=  -0.5070000290870667                                                  \n",
       "WCSNAMEO= 'OPUS    '                                                            \n",
       "WCSAXESO=                    2                                                  \n",
       "CRPIX1O =                492.0                                                  \n",
       "CRPIX2O =                557.0                                                  \n",
       "CDELT1O =                  1.0                                                  \n",
       "CDELT2O =                  1.0                                                  \n",
       "CUNIT1O = 'deg     '                                                            \n",
       "CUNIT2O = 'deg     '                                                            \n",
       "CTYPE1O = 'RA---TAN'                                                            \n",
       "CTYPE2O = 'DEC--TAN'                                                            \n",
       "CRVAL1O =       53.07341407653                                                  \n",
       "CRVAL2O =      -27.70899251213                                                  \n",
       "LONPOLEO=                180.0                                                  \n",
       "LATPOLEO=      -27.70899251213                                                  \n",
       "RADESYSO= 'ICRS    '                                                            \n",
       "CD1_1O  =          3.61933E-05                                                  \n",
       "CD1_2O  =          9.41344E-06                                                  \n",
       "CD2_1O  =          1.04347E-05                                                  \n",
       "CD2_2O  =         -3.23551E-05                                                  \n",
       "IDCTAB  = 'iref$w3m18525i_idc.fits'                                             \n",
       "B_0_3   = -2.3813607426051E-10                                                  \n",
       "B_ORDER =                    4                                                  \n",
       "A_3_0   = -2.3716200728180E-10                                                  \n",
       "B_1_2   = 6.31243430776636E-11                                                  \n",
       "A_ORDER =                    4                                                  \n",
       "B_2_2   = -1.7580091715687E-13                                                  \n",
       "A_2_1   = 1.29289254704036E-10                                                  \n",
       "A_1_1   = 2.44084308174762E-05                                                  \n",
       "A_2_2   = 2.35753629384072E-14                                                  \n",
       "A_2_0   = -2.4133465663211E-07                                                  \n",
       "A_1_3   = 5.17856894659408E-13                                                  \n",
       "B_3_1   = 5.60993015610249E-14                                                  \n",
       "A_0_2   = 5.33092691853019E-08                                                  \n",
       "B_2_1   = -3.0827896112996E-10                                                  \n",
       "A_1_2   = 2.81394789152228E-11                                                  \n",
       "A_4_0   = -2.8102976693048E-13                                                  \n",
       "A_0_4   = -2.0211147283637E-13                                                  \n",
       "B_1_1   = -1.7107385824843E-07                                                  \n",
       "B_0_4   = 7.23205168173609E-13                                                  \n",
       "B_4_0   = -5.9243852454034E-13                                                  \n",
       "A_3_1   = 5.43714947358335E-13                                                  \n",
       "B_3_0   = 3.51974158902385E-11                                                  \n",
       "B_1_3   = -5.1674434652779E-14                                                  \n",
       "B_2_0   = 6.95458963321812E-06                                                  \n",
       "A_0_3   = 3.73753772880087E-11                                                  \n",
       "B_0_2   = 2.99270373714981E-05                                                  \n",
       "WCSNAME = 'IDC_w3m18525i'                                                       \n",
       "MDRIZSKY=   0.8787192461264526 / Sky value computed by AstroDrizzle             "
      ]
     },
     "execution_count": 5,
     "metadata": {},
     "output_type": "execute_result"
    }
   ],
   "source": [
    "test[1].header"
   ]
  },
  {
   "cell_type": "code",
   "execution_count": 6,
   "metadata": {
    "ExecuteTime": {
     "end_time": "2021-04-16T15:10:07.564081Z",
     "start_time": "2021-04-16T15:10:07.442957Z"
    }
   },
   "outputs": [
    {
     "data": {
      "image/png": "[encoded data removed]",
      "text/plain": [
       "<Figure size 432x288 with 1 Axes>"
      ]
     },
     "metadata": {
      "needs_background": "light"
     },
     "output_type": "display_data"
    }
   ],
   "source": [
    "im = plt.imshow(test[1].data[250:350,100:600])\n",
    "im.set_clim(0, 100)"
   ]
  },
  {
   "cell_type": "code",
   "execution_count": 7,
   "metadata": {
    "ExecuteTime": {
     "end_time": "2021-04-16T15:10:07.645266Z",
     "start_time": "2021-04-16T15:10:07.634156Z"
    }
   },
   "outputs": [],
   "source": [
    "w = WCS(test[1].header)"
   ]
  },
  {
   "cell_type": "code",
   "execution_count": 8,
   "metadata": {
    "ExecuteTime": {
     "end_time": "2021-04-16T15:10:07.813314Z",
     "start_time": "2021-04-16T15:10:07.810889Z"
    }
   },
   "outputs": [],
   "source": [
    "ndc = ndcube.NDCube(test[1].data, w)"
   ]
  },
  {
   "cell_type": "code",
   "execution_count": 9,
   "metadata": {
    "ExecuteTime": {
     "end_time": "2021-04-16T15:10:08.799684Z",
     "start_time": "2021-04-16T15:10:08.795703Z"
    }
   },
   "outputs": [
    {
     "data": {
      "text/plain": [
       "<ndcube.ndcube.NDCube object at 0x7fadc920a490>\n",
       "NDCube\n",
       "------\n",
       "Dimensions: [1014. 1014.] pix\n",
       "Physical Types of Axes: [('pos.eq.ra', 'pos.eq.dec'), ('pos.eq.ra', 'pos.eq.dec')]"
      ]
     },
     "execution_count": 9,
     "metadata": {},
     "output_type": "execute_result"
    }
   ],
   "source": [
    "ndc"
   ]
  },
  {
   "cell_type": "code",
   "execution_count": 10,
   "metadata": {
    "ExecuteTime": {
     "end_time": "2021-04-16T15:10:09.545870Z",
     "start_time": "2021-04-16T15:10:09.542732Z"
    }
   },
   "outputs": [],
   "source": [
    "reference_files = {}\n",
    "specwcs_filename = \"wfc3_ir_specwcs.asdf\"\n",
    "wavelengthrange_filename = \"../WFC3_wavelengthrange.asdf\"\n",
    "dist_ref_path = \"../WFC3IR_distortion.asdf\"\n",
    "\n",
    "reference_files['distortion'] = dist_ref_path\n",
    "reference_files['wavelengthrange'] = wavelengthrange_filename\n",
    "reference_files['specwcs'] = specwcs_filename"
   ]
  },
  {
   "cell_type": "code",
   "execution_count": 11,
   "metadata": {
    "ExecuteTime": {
     "end_time": "2021-04-16T15:10:10.421689Z",
     "start_time": "2021-04-16T15:10:09.933663Z"
    }
   },
   "outputs": [],
   "source": [
    "from dispersion_models import DISPXY_Model, DISPXY_Extension\n",
    "asdf.get_config().add_extension(DISPXY_Extension())\n",
    "\n",
    "specwcs = asdf.open(reference_files['specwcs']).tree\n",
    "displ = specwcs['displ']\n",
    "dispx = specwcs['dispx']\n",
    "dispy = specwcs['dispy']\n",
    "invdispl = specwcs['invdispl']\n",
    "invdispx = specwcs['invdispx']\n",
    "invdispy = specwcs['invdispy']\n",
    "orders = specwcs['order']"
   ]
  },
  {
   "cell_type": "code",
   "execution_count": 12,
   "metadata": {
    "ExecuteTime": {
     "end_time": "2021-04-16T15:10:11.080624Z",
     "start_time": "2021-04-16T15:10:11.077125Z"
    }
   },
   "outputs": [
    {
     "data": {
      "text/plain": [
       "[<DISPXY_Model(name='DISPXY_Model')>,\n",
       " <DISPXY_Model(name='DISPXY_Model')>,\n",
       " <DISPXY_Model(name='DISPXY_Model')>,\n",
       " <DISPXY_Model(name='DISPXY_Model')>,\n",
       " <DISPXY_Model(name='DISPXY_Model')>,\n",
       " <DISPXY_Model(name='DISPXY_Model')>]"
      ]
     },
     "execution_count": 12,
     "metadata": {},
     "output_type": "execute_result"
    }
   ],
   "source": [
    "invdispx"
   ]
  },
  {
   "cell_type": "code",
   "execution_count": 13,
   "metadata": {
    "ExecuteTime": {
     "end_time": "2021-04-16T15:10:12.014304Z",
     "start_time": "2021-04-16T15:10:12.009025Z"
    }
   },
   "outputs": [],
   "source": [
    "# Create grism pipeline\n",
    "\n",
    "from gwcs import coordinate_frames as cf\n",
    "from astropy import units as u\n",
    "from transform_models import WFC3IRForwardGrismDispersion, WFC3IRBackwardGrismDispersion\n",
    "\n",
    "gdetector = cf.Frame2D(name='grism_detector', \n",
    "                       axes_order=(0, 1),\n",
    "                       unit=(u.pix, u.pix))\n",
    "det2det = WFC3IRForwardGrismDispersion(orders,\n",
    "                                        lmodels=displ,\n",
    "                                        xmodels=invdispx,\n",
    "                                        ymodels=dispy)\n",
    "det2det.inverse = WFC3IRBackwardGrismDispersion(orders,\n",
    "                                              lmodels=invdispl,\n",
    "                                              xmodels=dispx,\n",
    "                                              ymodels=dispy)\n",
    "\n",
    "grism_pipeline = [(gdetector, det2det)]"
   ]
  },
  {
   "cell_type": "code",
   "execution_count": 14,
   "metadata": {
    "ExecuteTime": {
     "end_time": "2021-04-16T15:10:12.984001Z",
     "start_time": "2021-04-16T15:10:12.980791Z"
    }
   },
   "outputs": [],
   "source": [
    "from gwcs import WCS\n",
    "\n",
    "wcsobj = WCS(grism_pipeline)"
   ]
  },
  {
   "cell_type": "code",
   "execution_count": 15,
   "metadata": {
    "ExecuteTime": {
     "end_time": "2021-04-16T15:10:13.797306Z",
     "start_time": "2021-04-16T15:10:13.793772Z"
    }
   },
   "outputs": [
    {
     "name": "stdout",
     "output_type": "stream",
     "text": [
      "     From      Transform\n",
      "-------------- ---------\n",
      "grism_detector      None\n"
     ]
    }
   ],
   "source": [
    "print(wcsobj)"
   ]
  },
  {
   "cell_type": "code",
   "execution_count": 16,
   "metadata": {
    "ExecuteTime": {
     "end_time": "2021-04-16T15:10:14.492174Z",
     "start_time": "2021-04-16T15:10:14.487574Z"
    }
   },
   "outputs": [
    {
     "data": {
      "text/plain": [
       "(343.35376024540244, 104.13834046833674, 100, 100, 1)"
      ]
     },
     "execution_count": 16,
     "metadata": {},
     "output_type": "execute_result"
    }
   ],
   "source": [
    "det2det.inverse.evaluate(100,100,2, 1)"
   ]
  },
  {
   "cell_type": "code",
   "execution_count": 63,
   "metadata": {
    "ExecuteTime": {
     "end_time": "2021-04-16T15:30:23.272302Z",
     "start_time": "2021-04-16T15:30:23.087332Z"
    }
   },
   "outputs": [
    {
     "name": "stdout",
     "output_type": "stream",
     "text": [
      "(204.26972147408998, 286.8536012589572, 160, 285, 1) (339.55872878229144, 302.99753117068565, 165, 300, 1)\n"
     ]
    }
   ],
   "source": [
    "from extraction import extract_2d_spectrum\n",
    "\n",
    "sliced_data = extract_2d_spectrum(test[1].data, 160, 285, 165, 300)"
   ]
  },
  {
   "cell_type": "code",
   "execution_count": 64,
   "metadata": {
    "ExecuteTime": {
     "end_time": "2021-04-16T15:30:23.512410Z",
     "start_time": "2021-04-16T15:30:23.509139Z"
    }
   },
   "outputs": [
    {
     "data": {
      "text/plain": [
       "(17, 136)"
      ]
     },
     "execution_count": 64,
     "metadata": {},
     "output_type": "execute_result"
    }
   ],
   "source": [
    "sliced_data.shape"
   ]
  },
  {
   "cell_type": "code",
   "execution_count": 65,
   "metadata": {
    "ExecuteTime": {
     "end_time": "2021-04-16T15:30:23.933346Z",
     "start_time": "2021-04-16T15:30:23.840091Z"
    }
   },
   "outputs": [
    {
     "data": {
      "text/plain": [
       "<matplotlib.image.AxesImage at 0x7fae088cfb20>"
      ]
     },
     "execution_count": 65,
     "metadata": {},
     "output_type": "execute_result"
    },
    {
     "data": {
      "image/png": "[encoded data removed]",
      "text/plain": [
       "<Figure size 432x288 with 1 Axes>"
      ]
     },
     "metadata": {
      "needs_background": "light"
     },
     "output_type": "display_data"
    }
   ],
   "source": [
    "plt.imshow(sliced_data)"
   ]
  },
  {
   "cell_type": "code",
   "execution_count": null,
   "metadata": {},
   "outputs": [],
   "source": []
  }
 ],
 "metadata": {
  "kernelspec": {
   "display_name": "Python 3",
   "language": "python",
   "name": "python3"
  },
  "language_info": {
   "codemirror_mode": {
    "name": "ipython",
    "version": 3
   },
   "file_extension": ".py",
   "mimetype": "text/x-python",
   "name": "python",
   "nbconvert_exporter": "python",
   "pygments_lexer": "ipython3",
   "version": "3.9.0"
  }
 },
 "nbformat": 4,
 "nbformat_minor": 4
}
